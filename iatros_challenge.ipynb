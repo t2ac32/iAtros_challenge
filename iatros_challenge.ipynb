{
 "metadata": {
  "language_info": {
   "codemirror_mode": {
    "name": "ipython",
    "version": 3
   },
   "file_extension": ".py",
   "mimetype": "text/x-python",
   "name": "python",
   "nbconvert_exporter": "python",
   "pygments_lexer": "ipython3",
   "version": "3.8.5-final"
  },
  "orig_nbformat": 2,
  "kernelspec": {
   "name": "Python 3.8.5 64-bit ('iatros': conda)",
   "display_name": "Python 3.8.5 64-bit ('iatros': conda)",
   "metadata": {
    "interpreter": {
     "hash": "96d269a9b49747d14c0ac4bff2de003b3d4010f4c68b77dc8330467798d6388d"
    }
   }
  }
 },
 "nbformat": 4,
 "nbformat_minor": 2,
 "cells": [
  {
   "cell_type": "code",
   "execution_count": 6,
   "metadata": {},
   "outputs": [],
   "source": [
    "import math\n",
    "import logging\n",
    "from typing import Union\n",
    "from pathlib import Path\n",
    "from urllib.parse import urlparse, parse_qsl, urlsplit\n",
    "\n",
    "import pandas as pd\n",
    "import seaborn as sb\n",
    "import json\n",
    "import requests\n",
    "import fhirclient\n",
    "\n",
    "from IPython.display import display, HTML\n",
    "#fhir server clients and configuration\n",
    "from fhirclient import client\n",
    "import fhirclient.models.patient as p\n",
    "import fhirclient.models.observation as o\n",
    "import fhirclient.models.bundle as b\n"
   ]
  },
  {
   "cell_type": "code",
   "execution_count": 7,
   "metadata": {},
   "outputs": [],
   "source": [
    "#Constants\n",
    "HAPI_URL = 'http://hapi.fhir.org/baseR4'"
   ]
  },
  {
   "source": [
    "# Testing connection to server\n",
    "The fhirclinet library is used to simplify interaction between server responses.\n",
    "First a simple test to retrieve a patient's name.\n"
   ],
   "cell_type": "markdown",
   "metadata": {}
  },
  {
   "cell_type": "code",
   "execution_count": 8,
   "metadata": {},
   "outputs": [
    {
     "output_type": "stream",
     "name": "stdout",
     "text": [
      "{'resourceType': 'OperationOutcome', 'text': {'status': 'generated', 'div': '<div xmlns=\"http://www.w3.org/1999/xhtml\"><h1>Operation Outcome</h1><table border=\"0\"><tr><td style=\"font-weight: bold;\">ERROR</td><td>[]</td><td><pre>This is the base URL of FHIR server. Unable to handle this request, as it does not contain a resource type or operation name.</pre></td>\\n\\t\\t\\t\\t\\t\\n\\t\\t\\t\\t\\n\\t\\t\\t</tr>\\n\\t\\t</table>\\n\\t</div>'}, 'issue': [{'severity': 'error', 'code': 'processing', 'diagnostics': 'This is the base URL of FHIR server. Unable to handle this request, as it does not contain a resource type or operation name.'}]}\n",
      "Patient Name: Dorothy Mayer\n"
     ]
    },
    {
     "output_type": "execute_result",
     "data": {
      "text/plain": [
       "True"
      ]
     },
     "metadata": {},
     "execution_count": 8
    }
   ],
   "source": [
    "#Test library on HAPI-FHIR test server\n",
    "resp = requests.get(HAPI_URL)\n",
    "print(resp.json())\n",
    "\n",
    "settings = {\n",
    "    'app_id': 'fhir',\n",
    "    'api_base': 'http://hapi.fhir.org/baseR4/'\n",
    "}\n",
    "\n",
    "\n",
    "#test a patient query\n",
    "SMART = client.FHIRClient(settings=settings)    \n",
    "patient = p.Patient.read('697505', SMART.server)\n",
    "p_name = SMART.human_name(patient.name[0])\n",
    "# 'Dorothy Mayer'\n",
    "print('Patient Name:', p_name)\n",
    "\n",
    "#Test sever connection\n",
    "SMART.prepare()  # prints True after fet ching CapabilityStatement"
   ]
  },
  {
   "source": [
    "## Search for observation in FHIR-SERVER\n",
    "The function search_observation(...) is used to create a query to the FHIR server\n",
    "it is mainly configure to work with observation codes (SNOMED, LOINC).\n",
    "\n",
    "For this project the function can accept a subject id form the fhir server.\n",
    "This variation is used in the app.py to retreive measurements of a patient and predict over them.\n",
    "\n",
    "Observation    \n",
    "code: 85354-9: LOINC CODE\n",
    "value: Blood pressure panel with all children optional.\n",
    "note: Will look for observations of blood preassure "
   ],
   "cell_type": "markdown",
   "metadata": {}
  },
  {
   "cell_type": "code",
   "execution_count": 9,
   "metadata": {},
   "outputs": [],
   "source": [
    "\n",
    "def search_observation(obs_code: str, server, subject= None ) -> pd.DataFrame:\n",
    "    \"\"\" \n",
    "        Recibes a code conforming to SNOMED-CT \n",
    "        e.j. http://bioportal.bioontology.org/ontologies/SNOMEDCT/?p=classes&conceptid=http%3A%2F%2Fpurl.bioontology.org%2Fontology%2FSNOMEDCT%2F38341003&jump_to_nav=true\n",
    "\n",
    "        Args:\n",
    "            obs_code [str] -- SNOMED-CT or LOINC conforming code\n",
    "            server   [   ] -- instance of fhirclient server\n",
    "        \n",
    "        Returns:\n",
    "            iatros_df [pandas.DataFrame]\n",
    "    \"\"\"\n",
    "    # Create search query\n",
    "    payload = {'status' : 'final',\n",
    "                'code': {'$and': [obs_code]},    \n",
    "            }\n",
    "    if subject is not None:\n",
    "        payload['subject'] = subject\n",
    "    fs = o.Observation.where(struct = payload)\n",
    "    # Perfom query to receive a Bundle resourceType since it contains pagination link.\n",
    "    bundle = fs.perform(server)\n",
    "    #print(json.dumps(bundle.as_json(), indent=2))\n",
    "    \n",
    "    # Pass bundle to handel pagination and save entries in Dataframe\n",
    "    iatros_df = handle_pagination(bundle)\n",
    "    \n",
    "    return iatros_df"
   ]
  },
  {
   "source": [
    "## Pagination\n",
    "To search for multiple values to use as training data set the query requires to handle paginated responses from the server.\n",
    "- Each page returns 20 entries.\n",
    "- The function read the entries and get the data of interest to append into smaller dataframes.\n",
    "- The while loop runs while the response bundle has a pagination next.link\n",
    "- Return a dataframe with all the acquired entries.\n",
    "\n",
    "Note: \n",
    "During pagination the algorithm converts the bundle to a fhirclient object.\n",
    "**However** after some pages the bundle conversion fails due to a fhir_comment param that the library is unable to handle.\n",
    "\n"
   ],
   "cell_type": "markdown",
   "metadata": {}
  },
  {
   "source": [
    "def handle_pagination(bundle: fhirclient.models.bundle) -> pd.DataFrame:\n",
    "    \"\"\"\n",
    "        Handles a resourceType: \"Bundle\" entries, if pagination\n",
    "        link avalable iterates looking for next page entries and\n",
    "        queries the server for the next page.\n",
    "\n",
    "        Arguments:\n",
    "            bundle -- fhirclient.models.bundle\n",
    "\n",
    "        Returns:\n",
    "            pandas.DataFrame -- A Data frame containing inputs from\n",
    "                                 the paginated  requests.\n",
    "    \"\"\"\n",
    "    frames = []\n",
    "    #Keep requesting while pagination link exists\n",
    "    while True:\n",
    "        entries = [be.resource for be in bundle.entry] if bundle is not None and bundle.entry is not None else None\n",
    "        print('Retrieved {}/{} entries...'.format(len(bundle.entry) if bundle.entry else 0, bundle.total if bundle.total else ' '))\n",
    "        \n",
    "        #Get a temp dataframe from current bundle entries\n",
    "        temp_df =  append_entries_to_dataset(bundle)\n",
    "        frames.append(temp_df)\n",
    "        #Look for a pagination link\n",
    "        if entries is not None and len(entries) > 0:\n",
    "            next_link = get_next_link_in(bundle)  \n",
    "            url_params = get_url_params(next_link)\n",
    "            if next_link is not None:\n",
    "                if len(url_params) > 1:\n",
    "                    #Query for next page\n",
    "                    response = requests.get(HAPI_URL, params=url_params)\n",
    "                    if response.status_code == 200:\n",
    "                        #Initialize a bundle object from request response as json\n",
    "                        try: \n",
    "                            bundle = b.Bundle(response.json())\n",
    "                        except Exception as e:\n",
    "                            print('An error ocurred while creating Bundle object')\n",
    "                            print(e)\n",
    "                            print('Error query: ', next_link)\n",
    "                            return pd.concat(frames)\n",
    "            else:\n",
    "                return pd.concat(frames)\n",
    "        else:\n",
    "             return pd.concat(frames)\n",
    "\n",
    "def get_url_params(url:str):\n",
    "    o = urlparse(url)\n",
    "    query = parse_qsl(o.query)\n",
    "    \n",
    "    params = dict(parse_qsl(urlsplit(url).query))\n",
    "    \n",
    "    return params\n",
    "\n",
    "def get_next_link_in(bundle):\n",
    "    if bundle.link is not None:\n",
    "        for link in bundle.link:\n",
    "            if link.relation == 'next':\n",
    "                return link.url\n",
    "    else:\n",
    "         return None"
   ],
   "cell_type": "code",
   "metadata": {},
   "execution_count": 10,
   "outputs": []
  },
  {
   "source": [
    "## Dataset filler\n",
    " This section creates a pandas Dataframe from a Query response.\n",
    "\n",
    " ### Problems\n",
    " I tried to use the SOMED-CT code to retreive patients with Hypertension disorder observations. However this code only return 2 entries which wherent enough for the model training.\n",
    "\n",
    "[![Run in Postman](https://run.pstmn.io/button.svg)](https://app.getpostman.com/run-collection/933c23e950e1b35fcfd4)\n",
    "\n",
    "### Solution\n",
    "I added a small validation check for blodd pressure values under thes conditions, a True entry was added to the Hypertension column.\n"
   ],
   "cell_type": "markdown",
   "metadata": {}
  },
  {
   "cell_type": "code",
   "execution_count": 11,
   "metadata": {},
   "outputs": [],
   "source": [
    "def append_entries_to_dataset(bundle)-> pd.DataFrame:\n",
    "    columns = ['Patient_Ref','Dia','Sys','Units']\n",
    "    d= []\n",
    "    for entry in bundle.entry:\n",
    "        row = {}\n",
    "        resource = entry.resource\n",
    "        subject_ref = resource.subject.reference.replace('Patient/','')\n",
    "        for comp in resource.component:\n",
    "            if comp.valueQuantity is not None and comp.valueQuantity is not float('nan'):\n",
    "                bp_val = comp.valueQuantity.value\n",
    "                bp_val_unit = comp.valueQuantity.unit\n",
    "                if bp_val is not None:\n",
    "                    if comp.code.text == \"Diastolic Blood Pressure\":\n",
    "                        row['Dia'] = bp_val\n",
    "                    elif comp.code.text == \"Systolic Blood Pressure\":\n",
    "                        row['Sys'] = bp_val\n",
    "            else:\n",
    "                print('Non value quantity found')\n",
    "                continue\n",
    "            row['Units'] = bp_val_unit\n",
    "            row['Patient_Ref'] = subject_ref \n",
    "                \n",
    "        if ('Sys' in row.keys()) and ('Dia' in row.keys()):\n",
    "            sistolic = row['Sys'] \n",
    "            diastolic = row['Dia'] \n",
    "            if 130 <= sistolic <= 139 and 80 <= diastolic <= 89:\n",
    "                row['Hypertension'] = True\n",
    "            elif sistolic >= 140 and diastolic >= 90 :\n",
    "                row['Hypertension'] = True\n",
    "            else:\n",
    "                row['Hypertension'] = False  \n",
    "           \n",
    "        d.append(row)\n",
    "    \n",
    "    return pd.DataFrame(d)"
   ]
  },
  {
   "source": [
    "# Run Query for observation (Blood pressure)"
   ],
   "cell_type": "markdown",
   "metadata": {}
  },
  {
   "cell_type": "code",
   "execution_count": 12,
   "metadata": {},
   "outputs": [
    {
     "output_type": "stream",
     "name": "stdout",
     "text": [
      "Retrieved 20/  entries...\n",
      "Retrieved 20/  entries...\n",
      "Retrieved 20/  entries...\n",
      "Retrieved 20/  entries...\n",
      "Retrieved 20/  entries...\n",
      "Retrieved 20/  entries...\n",
      "Retrieved 20/  entries...\n",
      "Retrieved 20/  entries...\n",
      "Retrieved 20/  entries...\n",
      "Retrieved 20/  entries...\n",
      "Retrieved 20/  entries...\n",
      "Retrieved 20/  entries...\n",
      "Retrieved 20/  entries...\n",
      "Retrieved 20/  entries...\n",
      "Retrieved 20/  entries...\n",
      "Retrieved 20/  entries...\n",
      "Retrieved 20/  entries...\n",
      "Retrieved 20/  entries...\n",
      "Retrieved 20/  entries...\n",
      "Retrieved 20/  entries...\n",
      "Retrieved 20/  entries...\n",
      "Retrieved 20/  entries...\n",
      "Retrieved 20/  entries...\n",
      "Retrieved 20/  entries...\n",
      "Retrieved 20/  entries...\n",
      "Retrieved 20/  entries...\n",
      "Retrieved 20/  entries...\n",
      "Retrieved 20/  entries...\n",
      "Retrieved 20/  entries...\n",
      "Retrieved 20/  entries...\n",
      "Retrieved 20/  entries...\n",
      "Retrieved 20/  entries...\n",
      "Retrieved 20/  entries...\n",
      "Retrieved 20/  entries...\n",
      "Retrieved 20/  entries...\n",
      "Retrieved 20/  entries...\n",
      "Retrieved 20/  entries...\n",
      "Retrieved 20/  entries...\n",
      "Retrieved 20/  entries...\n",
      "Retrieved 20/  entries...\n",
      "Retrieved 20/  entries...\n",
      "Retrieved 20/  entries...\n",
      "Retrieved 20/  entries...\n",
      "Retrieved 20/  entries...\n",
      "Retrieved 20/  entries...\n",
      "Retrieved 20/  entries...\n",
      "Retrieved 20/  entries...\n",
      "Retrieved 20/  entries...\n",
      "Non value quantity found\n",
      "Non value quantity found\n",
      "Non value quantity found\n",
      "Non value quantity found\n",
      "Non value quantity found\n",
      "Non value quantity found\n",
      "Non value quantity found\n",
      "Non value quantity found\n",
      "Retrieved 20/  entries...\n",
      "Retrieved 20/  entries...\n",
      "Retrieved 20/  entries...\n",
      "Retrieved 20/  entries...\n",
      "Retrieved 20/  entries...\n",
      "Retrieved 20/  entries...\n",
      "Retrieved 20/  entries...\n",
      "Retrieved 20/  entries...\n",
      "Retrieved 20/  entries...\n",
      "Retrieved 20/  entries...\n",
      "Retrieved 20/  entries...\n",
      "Retrieved 20/  entries...\n",
      "Retrieved 20/  entries...\n",
      "Retrieved 20/  entries...\n",
      "Retrieved 20/  entries...\n",
      "Retrieved 20/  entries...\n",
      "Retrieved 20/  entries...\n",
      "Retrieved 20/  entries...\n",
      "Retrieved 20/  entries...\n",
      "Retrieved 20/  entries...\n",
      "Retrieved 20/  entries...\n",
      "Retrieved 20/  entries...\n",
      "Retrieved 20/  entries...\n",
      "Retrieved 20/  entries...\n",
      "Retrieved 20/  entries...\n",
      "Retrieved 20/  entries...\n",
      "Retrieved 20/  entries...\n",
      "Retrieved 20/  entries...\n",
      "Retrieved 20/  entries...\n",
      "Retrieved 20/  entries...\n",
      "Retrieved 20/  entries...\n",
      "Retrieved 20/  entries...\n",
      "Non value quantity found\n",
      "Retrieved 20/  entries...\n",
      "Retrieved 20/  entries...\n",
      "Retrieved 20/  entries...\n",
      "Retrieved 20/  entries...\n",
      "Retrieved 20/  entries...\n",
      "Retrieved 20/  entries...\n",
      "Retrieved 20/  entries...\n",
      "Retrieved 20/  entries...\n",
      "Retrieved 20/  entries...\n",
      "Retrieved 20/  entries...\n",
      "Retrieved 20/  entries...\n",
      "Retrieved 20/  entries...\n",
      "Non value quantity found\n",
      "Retrieved 20/  entries...\n",
      "Retrieved 20/  entries...\n",
      "Retrieved 20/  entries...\n",
      "Retrieved 20/  entries...\n",
      "Retrieved 20/  entries...\n",
      "Retrieved 20/  entries...\n",
      "Retrieved 20/  entries...\n",
      "Retrieved 20/  entries...\n",
      "Retrieved 20/  entries...\n",
      "Retrieved 20/2506 entries...\n",
      "Retrieved 20/2506 entries...\n",
      "Retrieved 20/2506 entries...\n",
      "Retrieved 20/2506 entries...\n",
      "Retrieved 20/2506 entries...\n",
      "Retrieved 20/2506 entries...\n",
      "Non value quantity found\n",
      "Retrieved 20/2506 entries...\n",
      "Retrieved 20/2506 entries...\n",
      "Retrieved 20/2506 entries...\n",
      "Retrieved 20/2506 entries...\n",
      "Retrieved 20/2506 entries...\n",
      "Retrieved 20/2506 entries...\n",
      "Retrieved 20/2506 entries...\n",
      "Retrieved 20/2506 entries...\n",
      "Retrieved 20/2506 entries...\n",
      "An error ocurred while creating Bundle object\n",
      "{root}:\n",
      "  entry.0:\n",
      "    resource:\n",
      "      basedOn.0:\n",
      "        Superfluous entry \"fhir_comments\" in data for <fhirclient.models.fhirreference.FHIRReference object at 0x0000016104493A60>\n",
      "Error query:  http://hapi.fhir.org/baseR4?_getpages=56103265-43be-443d-8fd0-4503095ee2bf&_getpagesoffset=2320&_count=20&_pretty=true&_bundletype=searchset\n"
     ]
    }
   ],
   "source": [
    "#Reuse SMART server instance\n",
    "iatros_df = search_observation('85354-9', SMART.server)\n",
    "\n",
    "#Test query for patient: 1598464  \n",
    "#patient_df = search_observation('85354-9', SMART.server, subject='1598464')\n",
    "#patient_df.head"
   ]
  },
  {
   "cell_type": "code",
   "execution_count": 13,
   "metadata": {},
   "outputs": [],
   "source": [
    "#display(HTML(iatros_df.to_html()))"
   ]
  },
  {
   "source": [
    "# Final Dataframe pre-processing\n",
    "- Remove rows with NaN values\n",
    "- The index count repeats every 20 entries due to the filler function. So we just reset it and remove it for a more clear dataframe reading.\n",
    "- Save the dataframe to a .cvs file this will make testing the training easier.\n"
   ],
   "cell_type": "markdown",
   "metadata": {}
  },
  {
   "cell_type": "code",
   "execution_count": 14,
   "metadata": {},
   "outputs": [],
   "source": [
    "#Clean datasframe\n",
    "'''Remove nan values'''\n",
    "iatros_df = iatros_df.dropna()\n",
    "'''Reset index count and remove it'''\n",
    "iatros_df.reset_index(drop=True,inplace=True)\n",
    "#display(HTML(iatros_df.to_html()))\n",
    "iatros_df.to_csv('hypertension.csv',index=False)"
   ]
  },
  {
   "source": [
    "## Binary classification"
   ],
   "cell_type": "markdown",
   "metadata": {}
  },
  {
   "cell_type": "code",
   "execution_count": 15,
   "metadata": {},
   "outputs": [],
   "source": [
    "from fastai.basics import *\n",
    "from fastai.callback.all import *\n",
    "from fastai.tabular.all import *\n",
    "import torch\n",
    "import torch.nn as nn"
   ]
  },
  {
   "source": [
    "# Model trainin setup\n",
    "\n",
    "We began by loading de previously obtained dataframe from a .csv. A small check is run to remove columns that are not needed for the training process.\n",
    "\n",
    "A tabular loader from fastAi is being used to train. So we created and pass some preprocessing instructions such as Categorify to prevent errors in the boolean column and Normalize to normalize Blood pressure values.\n"
   ],
   "cell_type": "markdown",
   "metadata": {}
  },
  {
   "cell_type": "code",
   "execution_count": 18,
   "metadata": {},
   "outputs": [
    {
     "output_type": "display_data",
     "data": {
      "text/plain": "<IPython.core.display.HTML object>",
      "text/html": "<table border=\"1\" class=\"dataframe\">\n  <thead>\n    <tr style=\"text-align: right;\">\n      <th></th>\n      <th>Dia</th>\n      <th>Sys</th>\n      <th>Hypertension</th>\n    </tr>\n  </thead>\n  <tbody>\n    <tr>\n      <th>0</th>\n      <td>83.0</td>\n      <td>113.0</td>\n      <td>False</td>\n    </tr>\n    <tr>\n      <th>1</th>\n      <td>83.0</td>\n      <td>123.0</td>\n      <td>False</td>\n    </tr>\n    <tr>\n      <th>2</th>\n      <td>80.0</td>\n      <td>122.0</td>\n      <td>False</td>\n    </tr>\n    <tr>\n      <th>3</th>\n      <td>71.0</td>\n      <td>105.0</td>\n      <td>False</td>\n    </tr>\n    <tr>\n      <th>4</th>\n      <td>76.0</td>\n      <td>118.0</td>\n      <td>False</td>\n    </tr>\n    <tr>\n      <th>5</th>\n      <td>74.0</td>\n      <td>129.0</td>\n      <td>False</td>\n    </tr>\n    <tr>\n      <th>6</th>\n      <td>79.0</td>\n      <td>110.0</td>\n      <td>False</td>\n    </tr>\n    <tr>\n      <th>7</th>\n      <td>72.0</td>\n      <td>124.0</td>\n      <td>False</td>\n    </tr>\n    <tr>\n      <th>8</th>\n      <td>86.0</td>\n      <td>126.0</td>\n      <td>False</td>\n    </tr>\n    <tr>\n      <th>9</th>\n      <td>82.0</td>\n      <td>138.0</td>\n      <td>True</td>\n    </tr>\n  </tbody>\n</table>"
     },
     "metadata": {}
    }
   ],
   "source": [
    "iatros_df = pd.read_csv('hypertension.csv')\n",
    "\n",
    "try: \n",
    "    iatros_df = iatros_df.drop(columns=['Units','Patient_Ref'])\n",
    "except:\n",
    "    print('Column not in dataframe')\n",
    "    print('Available columns: ', iatros_df.columns)\n",
    "#Config Tabular DataLoader:\n",
    "cont_names = ['Dia','Sys',]\n",
    "y_name = 'Hypertension'\n",
    "procs = [Categorify, Normalize]\n",
    "dls = TabularDataLoaders.from_df(iatros_df , procs=procs,cont_names=cont_names,y_names=y_name, y_block=CategoryBlock, bs=64)\n",
    "\n",
    "splits = RandomSplitter(valid_pct= 0.2)(range_of(iatros_df))\n",
    "dls.show_batch()\n"
   ]
  },
  {
   "source": [
    "# Define model\n",
    "- Setup model directory and check for dir existence.\n",
    "- Setup up a name for the final model to be exported (reused for weights)\n",
    "- Setup the learner that Will try to infer the loss function based on our y_names\n",
    "\n"
   ],
   "cell_type": "markdown",
   "metadata": {}
  },
  {
   "cell_type": "code",
   "execution_count": 20,
   "metadata": {},
   "outputs": [],
   "source": [
    "models_path = Path.cwd()\n",
    "callbacks = [] \n",
    "\n",
    "if not models_path.is_dir():\n",
    "    models_path.mkdir(exist_ok=True)\n",
    " \n",
    "model_name = 'hypertension_model'\n",
    "callbacks = [SaveModelCallback(every='improvement',\n",
    "                                    monitor='val_loss', \n",
    "                                    name= model_name)]\n",
    "\n",
    "learn = tabular_learner(dls,path=models_path, metrics=accuracy,callbacks=callbacks, splits=splits)\n"
   ]
  },
  {
   "source": [
    "**Fit the model for 50 epochs using the 1cycle policy.**"
   ],
   "cell_type": "markdown",
   "metadata": {}
  },
  {
   "cell_type": "code",
   "execution_count": 21,
   "metadata": {},
   "outputs": [
    {
     "output_type": "display_data",
     "data": {
      "text/plain": "<IPython.core.display.HTML object>",
      "text/html": "\n    <div>\n        <style>\n            /* Turns off some styling */\n            progress {\n                /* gets rid of default border in Firefox and Opera. */\n                border: none;\n                /* Needs to be in here for Safari polyfill so background images work as expected. */\n                background-size: auto;\n            }\n            .progress-bar-interrupted, .progress-bar-interrupted::-webkit-progress-bar {\n                background: #F44336;\n            }\n        </style>\n      <progress value='0' class='' max='50' style='width:300px; height:20px; vertical-align: middle;'></progress>\n      \n    </div>\n    \n"
     },
     "metadata": {}
    }
   ],
   "source": [
    "learn.fit_one_cycle(50)\n",
    "learn.save(file = model_name)\n",
    "learn.export(fname=models_path/'hypertension_model.pkl', pickle_protocol=2)"
   ]
  },
  {
   "source": [
    "Get the prediction dictionary to get some metrics:\n",
    "- validation acccuracy = 99.41175842285156 %\n",
    "- A confusion matrix to describe classification performance"
   ],
   "cell_type": "markdown",
   "metadata": {}
  },
  {
   "cell_type": "code",
   "execution_count": 27,
   "metadata": {},
   "outputs": [
    {
     "output_type": "display_data",
     "data": {
      "text/plain": "<IPython.core.display.HTML object>",
      "text/html": "\n    <div>\n        <style>\n            /* Turns off some styling */\n            progress {\n                /* gets rid of default border in Firefox and Opera. */\n                border: none;\n                /* Needs to be in here for Safari polyfill so background images work as expected. */\n                background-size: auto;\n            }\n            .progress-bar-interrupted, .progress-bar-interrupted::-webkit-progress-bar {\n                background: #F44336;\n            }\n        </style>\n      <progress value='0' class='' max='6' style='width:300px; height:20px; vertical-align: middle;'></progress>\n      \n    </div>\n    "
     },
     "metadata": {}
    },
    {
     "output_type": "stream",
     "name": "stdout",
     "text": [
      "The validation accuracy is 99.41175842285156 %.\n"
     ]
    },
    {
     "output_type": "display_data",
     "data": {
      "text/plain": "<IPython.core.display.HTML object>",
      "text/html": "\n    <div>\n        <style>\n            /* Turns off some styling */\n            progress {\n                /* gets rid of default border in Firefox and Opera. */\n                border: none;\n                /* Needs to be in here for Safari polyfill so background images work as expected. */\n                background-size: auto;\n            }\n            .progress-bar-interrupted, .progress-bar-interrupted::-webkit-progress-bar {\n                background: #F44336;\n            }\n        </style>\n      <progress value='0' class='' max='6' style='width:300px; height:20px; vertical-align: middle;'></progress>\n      \n    </div>\n    "
     },
     "metadata": {}
    },
    {
     "output_type": "display_data",
     "data": {
      "text/plain": "<IPython.core.display.HTML object>",
      "text/html": "\n    <div>\n        <style>\n            /* Turns off some styling */\n            progress {\n                /* gets rid of default border in Firefox and Opera. */\n                border: none;\n                /* Needs to be in here for Safari polyfill so background images work as expected. */\n                background-size: auto;\n            }\n            .progress-bar-interrupted, .progress-bar-interrupted::-webkit-progress-bar {\n                background: #F44336;\n            }\n        </style>\n      <progress value='0' class='' max='1' style='width:300px; height:20px; vertical-align: middle;'></progress>\n      \n    </div>\n    "
     },
     "metadata": {}
    },
    {
     "output_type": "display_data",
     "data": {
      "text/plain": "<IPython.core.display.HTML object>",
      "text/html": "<table border=\"1\" class=\"dataframe\">\n  <thead>\n    <tr style=\"text-align: right;\">\n      <th></th>\n      <th>Dia</th>\n      <th>Sys</th>\n      <th>Hypertension</th>\n      <th>Hypertension_pred</th>\n    </tr>\n  </thead>\n  <tbody>\n    <tr>\n      <th>0</th>\n      <td>-0.194216</td>\n      <td>0.007680</td>\n      <td>0.0</td>\n      <td>0.0</td>\n    </tr>\n    <tr>\n      <th>1</th>\n      <td>0.100628</td>\n      <td>-0.863315</td>\n      <td>0.0</td>\n      <td>0.0</td>\n    </tr>\n    <tr>\n      <th>2</th>\n      <td>1.132583</td>\n      <td>-1.589144</td>\n      <td>0.0</td>\n      <td>0.0</td>\n    </tr>\n    <tr>\n      <th>3</th>\n      <td>1.132583</td>\n      <td>-0.355235</td>\n      <td>0.0</td>\n      <td>0.0</td>\n    </tr>\n    <tr>\n      <th>4</th>\n      <td>-1.521015</td>\n      <td>-0.718149</td>\n      <td>0.0</td>\n      <td>0.0</td>\n    </tr>\n    <tr>\n      <th>5</th>\n      <td>4.081025</td>\n      <td>1.677086</td>\n      <td>1.0</td>\n      <td>1.0</td>\n    </tr>\n    <tr>\n      <th>6</th>\n      <td>-0.489060</td>\n      <td>1.023840</td>\n      <td>0.0</td>\n      <td>0.0</td>\n    </tr>\n    <tr>\n      <th>7</th>\n      <td>-0.931326</td>\n      <td>0.370594</td>\n      <td>0.0</td>\n      <td>0.0</td>\n    </tr>\n    <tr>\n      <th>8</th>\n      <td>-0.636482</td>\n      <td>0.878674</td>\n      <td>0.0</td>\n      <td>0.0</td>\n    </tr>\n  </tbody>\n</table>"
     },
     "metadata": {}
    },
    {
     "output_type": "display_data",
     "data": {
      "text/plain": "<Figure size 300x300 with 1 Axes>",
      "image/svg+xml": "<?xml version=\"1.0\" encoding=\"utf-8\" standalone=\"no\"?>\r\n<!DOCTYPE svg PUBLIC \"-//W3C//DTD SVG 1.1//EN\"\r\n  \"http://www.w3.org/Graphics/SVG/1.1/DTD/svg11.dtd\">\r\n<!-- Created with matplotlib (https://matplotlib.org/) -->\r\n<svg height=\"365.604062pt\" version=\"1.1\" viewBox=\"0 0 350.485937 365.604062\" width=\"350.485937pt\" xmlns=\"http://www.w3.org/2000/svg\" xmlns:xlink=\"http://www.w3.org/1999/xlink\">\r\n <metadata>\r\n  <rdf:RDF xmlns:cc=\"http://creativecommons.org/ns#\" xmlns:dc=\"http://purl.org/dc/elements/1.1/\" xmlns:rdf=\"http://www.w3.org/1999/02/22-rdf-syntax-ns#\">\r\n   <cc:Work>\r\n    <dc:type rdf:resource=\"http://purl.org/dc/dcmitype/StillImage\"/>\r\n    <dc:date>2020-10-19T23:20:28.359831</dc:date>\r\n    <dc:format>image/svg+xml</dc:format>\r\n    <dc:creator>\r\n     <cc:Agent>\r\n      <dc:title>Matplotlib v3.3.1, https://matplotlib.org/</dc:title>\r\n     </cc:Agent>\r\n    </dc:creator>\r\n   </cc:Work>\r\n  </rdf:RDF>\r\n </metadata>\r\n <defs>\r\n  <style type=\"text/css\">*{stroke-linecap:butt;stroke-linejoin:round;}</style>\r\n </defs>\r\n <g id=\"figure_1\">\r\n  <g id=\"patch_1\">\r\n   <path d=\"M 0 365.604062 \r\nL 350.485937 365.604062 \r\nL 350.485937 0 \r\nL 0 0 \r\nz\r\n\" style=\"fill:none;\"/>\r\n  </g>\r\n  <g id=\"axes_1\">\r\n   <g id=\"patch_2\">\r\n    <path d=\"M 52.985938 312.618125 \r\nL 343.285938 312.618125 \r\nL 343.285938 22.318125 \r\nL 52.985938 22.318125 \r\nz\r\n\" style=\"fill:#ffffff;\"/>\r\n   </g>\r\n   <g clip-path=\"url(#p17ee87c200)\">\r\n    <image height=\"290.4\" id=\"image9838c72594\" transform=\"scale(1 -1)translate(0 -290.4)\" width=\"290.4\" x=\"52.985938\" xlink:href=\"data:image/png;base64,\r\niVBORw0KGgoAAAANSUhEUgAAAPIAAADyCAYAAAB3aJikAAAC+UlEQVR4nO3VsQ3CQAAEQUxEOfRFO3TlAqjAMRIJAcG7CPR6aTVTwSWr276/MS6kvY7P6glMdl09APifkCFAyBAgZAgQMgQIGQKEDAFChgAhQ4CQIUDIECBkCBAyBAgZAoQMAUKGACFDgJAhQMgQIGQIEDIECBkChAwBQoYAIUOAkCFAyBAgZAgQMgQIGQKEDAFChgAhQ4CQIUDIECBkCBAyBAgZAoQMAUKGACFDgJAhQMgQIGQIEDIECBkChAwBQoYAIUOAkCFAyBAgZAgQMgQIGQKEDAFChgAhQ4CQIUDIECBkCBAyBAgZAoQMAUKGACFDgJAhQMgQIGQIEDIECBkChAwBQoYAIUOAkCFAyBAgZAgQMgQIGQKEDAFChgAhQ4CQIUDIECBkCBAyBAgZAoQMAUKGACFDgJAhQMgQIGQIEDIECBkChAwBQoYAIUOAkCFAyBAgZAgQMgQIGQKEDAFChgAhQ4CQIUDIECBkCBAyBAgZAoQMAUKGACFDgJAhQMgQIGQIEDIECBkChAwBQoaA7XZ/jNUjmOu9P1dPYDKPDAFChgAhQ4CQIUDIECBkCBAyBAgZAoQMAUKGACFDgJAhQMgQIGQIEDIECBkChAwBQoYAIUOAkCFAyBAgZAgQMgQIGQKEDAFChgAhQ4CQIUDIECBkCBAyBAgZAoQMAUKGACFDgJAhQMgQIGQIEDIECBkChAwBQoYAIUOAkCFAyBAgZAgQMgQIGQKEDAFChgAhQ4CQIUDIECBkCBAyBAgZAoQMAUKGACFDgJAhQMgQIGQIEDIECBkChAwBQoYAIUOAkCFAyBAgZAgQMgQIGQKEDAFChgAhQ4CQIUDIECBkCBAyBAgZAoQMAUKGACFDgJAhQMgQIGQIEDIECBkChAwBQoYAIUOAkCFAyBAgZAgQMgQIGQKEDAFChgAhQ4CQIUDIECBkCBAyBAgZAoQMAUKGACFDgJAhQMgQIGQIEDIECBkChAwBQoYAIUOAkCFAyBAgZAgQMgQIGQJO9ooMcUaVHmsAAAAASUVORK5CYII=\" y=\"-22.218125\"/>\r\n   </g>\r\n   <g id=\"matplotlib.axis_1\">\r\n    <g id=\"xtick_1\">\r\n     <g id=\"line2d_1\">\r\n      <defs>\r\n       <path d=\"M 0 0 \r\nL 0 3.5 \r\n\" id=\"me070c0e448\" style=\"stroke:#000000;stroke-width:0.8;\"/>\r\n      </defs>\r\n      <g>\r\n       <use style=\"stroke:#000000;stroke-width:0.8;\" x=\"125.560938\" xlink:href=\"#me070c0e448\" y=\"312.618125\"/>\r\n      </g>\r\n     </g>\r\n     <g id=\"text_1\">\r\n      <!-- False -->\r\n      <g transform=\"translate(128.320313 344.725937)rotate(-90)scale(0.1 -0.1)\">\r\n       <defs>\r\n        <path d=\"M 9.8125 72.90625 \r\nL 51.703125 72.90625 \r\nL 51.703125 64.59375 \r\nL 19.671875 64.59375 \r\nL 19.671875 43.109375 \r\nL 48.578125 43.109375 \r\nL 48.578125 34.8125 \r\nL 19.671875 34.8125 \r\nL 19.671875 0 \r\nL 9.8125 0 \r\nz\r\n\" id=\"DejaVuSans-70\"/>\r\n        <path d=\"M 34.28125 27.484375 \r\nQ 23.390625 27.484375 19.1875 25 \r\nQ 14.984375 22.515625 14.984375 16.5 \r\nQ 14.984375 11.71875 18.140625 8.90625 \r\nQ 21.296875 6.109375 26.703125 6.109375 \r\nQ 34.1875 6.109375 38.703125 11.40625 \r\nQ 43.21875 16.703125 43.21875 25.484375 \r\nL 43.21875 27.484375 \r\nz\r\nM 52.203125 31.203125 \r\nL 52.203125 0 \r\nL 43.21875 0 \r\nL 43.21875 8.296875 \r\nQ 40.140625 3.328125 35.546875 0.953125 \r\nQ 30.953125 -1.421875 24.3125 -1.421875 \r\nQ 15.921875 -1.421875 10.953125 3.296875 \r\nQ 6 8.015625 6 15.921875 \r\nQ 6 25.140625 12.171875 29.828125 \r\nQ 18.359375 34.515625 30.609375 34.515625 \r\nL 43.21875 34.515625 \r\nL 43.21875 35.40625 \r\nQ 43.21875 41.609375 39.140625 45 \r\nQ 35.0625 48.390625 27.6875 48.390625 \r\nQ 23 48.390625 18.546875 47.265625 \r\nQ 14.109375 46.140625 10.015625 43.890625 \r\nL 10.015625 52.203125 \r\nQ 14.9375 54.109375 19.578125 55.046875 \r\nQ 24.21875 56 28.609375 56 \r\nQ 40.484375 56 46.34375 49.84375 \r\nQ 52.203125 43.703125 52.203125 31.203125 \r\nz\r\n\" id=\"DejaVuSans-97\"/>\r\n        <path d=\"M 9.421875 75.984375 \r\nL 18.40625 75.984375 \r\nL 18.40625 0 \r\nL 9.421875 0 \r\nz\r\n\" id=\"DejaVuSans-108\"/>\r\n        <path d=\"M 44.28125 53.078125 \r\nL 44.28125 44.578125 \r\nQ 40.484375 46.53125 36.375 47.5 \r\nQ 32.28125 48.484375 27.875 48.484375 \r\nQ 21.1875 48.484375 17.84375 46.4375 \r\nQ 14.5 44.390625 14.5 40.28125 \r\nQ 14.5 37.15625 16.890625 35.375 \r\nQ 19.28125 33.59375 26.515625 31.984375 \r\nL 29.59375 31.296875 \r\nQ 39.15625 29.25 43.1875 25.515625 \r\nQ 47.21875 21.78125 47.21875 15.09375 \r\nQ 47.21875 7.46875 41.1875 3.015625 \r\nQ 35.15625 -1.421875 24.609375 -1.421875 \r\nQ 20.21875 -1.421875 15.453125 -0.5625 \r\nQ 10.6875 0.296875 5.421875 2 \r\nL 5.421875 11.28125 \r\nQ 10.40625 8.6875 15.234375 7.390625 \r\nQ 20.0625 6.109375 24.8125 6.109375 \r\nQ 31.15625 6.109375 34.5625 8.28125 \r\nQ 37.984375 10.453125 37.984375 14.40625 \r\nQ 37.984375 18.0625 35.515625 20.015625 \r\nQ 33.0625 21.96875 24.703125 23.78125 \r\nL 21.578125 24.515625 \r\nQ 13.234375 26.265625 9.515625 29.90625 \r\nQ 5.8125 33.546875 5.8125 39.890625 \r\nQ 5.8125 47.609375 11.28125 51.796875 \r\nQ 16.75 56 26.8125 56 \r\nQ 31.78125 56 36.171875 55.265625 \r\nQ 40.578125 54.546875 44.28125 53.078125 \r\nz\r\n\" id=\"DejaVuSans-115\"/>\r\n        <path d=\"M 56.203125 29.59375 \r\nL 56.203125 25.203125 \r\nL 14.890625 25.203125 \r\nQ 15.484375 15.921875 20.484375 11.0625 \r\nQ 25.484375 6.203125 34.421875 6.203125 \r\nQ 39.59375 6.203125 44.453125 7.46875 \r\nQ 49.3125 8.734375 54.109375 11.28125 \r\nL 54.109375 2.78125 \r\nQ 49.265625 0.734375 44.1875 -0.34375 \r\nQ 39.109375 -1.421875 33.890625 -1.421875 \r\nQ 20.796875 -1.421875 13.15625 6.1875 \r\nQ 5.515625 13.8125 5.515625 26.8125 \r\nQ 5.515625 40.234375 12.765625 48.109375 \r\nQ 20.015625 56 32.328125 56 \r\nQ 43.359375 56 49.78125 48.890625 \r\nQ 56.203125 41.796875 56.203125 29.59375 \r\nz\r\nM 47.21875 32.234375 \r\nQ 47.125 39.59375 43.09375 43.984375 \r\nQ 39.0625 48.390625 32.421875 48.390625 \r\nQ 24.90625 48.390625 20.390625 44.140625 \r\nQ 15.875 39.890625 15.1875 32.171875 \r\nz\r\n\" id=\"DejaVuSans-101\"/>\r\n       </defs>\r\n       <use xlink:href=\"#DejaVuSans-70\"/>\r\n       <use x=\"48.394531\" xlink:href=\"#DejaVuSans-97\"/>\r\n       <use x=\"109.673828\" xlink:href=\"#DejaVuSans-108\"/>\r\n       <use x=\"137.457031\" xlink:href=\"#DejaVuSans-115\"/>\r\n       <use x=\"189.556641\" xlink:href=\"#DejaVuSans-101\"/>\r\n      </g>\r\n     </g>\r\n    </g>\r\n    <g id=\"xtick_2\">\r\n     <g id=\"line2d_2\">\r\n      <g>\r\n       <use style=\"stroke:#000000;stroke-width:0.8;\" x=\"270.710938\" xlink:href=\"#me070c0e448\" y=\"312.618125\"/>\r\n      </g>\r\n     </g>\r\n     <g id=\"text_2\">\r\n      <!-- True -->\r\n      <g transform=\"translate(273.470313 340.8525)rotate(-90)scale(0.1 -0.1)\">\r\n       <defs>\r\n        <path d=\"M -0.296875 72.90625 \r\nL 61.375 72.90625 \r\nL 61.375 64.59375 \r\nL 35.5 64.59375 \r\nL 35.5 0 \r\nL 25.59375 0 \r\nL 25.59375 64.59375 \r\nL -0.296875 64.59375 \r\nz\r\n\" id=\"DejaVuSans-84\"/>\r\n        <path d=\"M 41.109375 46.296875 \r\nQ 39.59375 47.171875 37.8125 47.578125 \r\nQ 36.03125 48 33.890625 48 \r\nQ 26.265625 48 22.1875 43.046875 \r\nQ 18.109375 38.09375 18.109375 28.8125 \r\nL 18.109375 0 \r\nL 9.078125 0 \r\nL 9.078125 54.6875 \r\nL 18.109375 54.6875 \r\nL 18.109375 46.1875 \r\nQ 20.953125 51.171875 25.484375 53.578125 \r\nQ 30.03125 56 36.53125 56 \r\nQ 37.453125 56 38.578125 55.875 \r\nQ 39.703125 55.765625 41.0625 55.515625 \r\nz\r\n\" id=\"DejaVuSans-114\"/>\r\n        <path d=\"M 8.5 21.578125 \r\nL 8.5 54.6875 \r\nL 17.484375 54.6875 \r\nL 17.484375 21.921875 \r\nQ 17.484375 14.15625 20.5 10.265625 \r\nQ 23.53125 6.390625 29.59375 6.390625 \r\nQ 36.859375 6.390625 41.078125 11.03125 \r\nQ 45.3125 15.671875 45.3125 23.6875 \r\nL 45.3125 54.6875 \r\nL 54.296875 54.6875 \r\nL 54.296875 0 \r\nL 45.3125 0 \r\nL 45.3125 8.40625 \r\nQ 42.046875 3.421875 37.71875 1 \r\nQ 33.40625 -1.421875 27.6875 -1.421875 \r\nQ 18.265625 -1.421875 13.375 4.4375 \r\nQ 8.5 10.296875 8.5 21.578125 \r\nz\r\nM 31.109375 56 \r\nz\r\n\" id=\"DejaVuSans-117\"/>\r\n       </defs>\r\n       <use xlink:href=\"#DejaVuSans-84\"/>\r\n       <use x=\"46.333984\" xlink:href=\"#DejaVuSans-114\"/>\r\n       <use x=\"87.447266\" xlink:href=\"#DejaVuSans-117\"/>\r\n       <use x=\"150.826172\" xlink:href=\"#DejaVuSans-101\"/>\r\n      </g>\r\n     </g>\r\n    </g>\r\n    <g id=\"text_3\">\r\n     <!-- Predicted -->\r\n     <g transform=\"translate(174.665625 356.324375)scale(0.1 -0.1)\">\r\n      <defs>\r\n       <path d=\"M 19.671875 64.796875 \r\nL 19.671875 37.40625 \r\nL 32.078125 37.40625 \r\nQ 38.96875 37.40625 42.71875 40.96875 \r\nQ 46.484375 44.53125 46.484375 51.125 \r\nQ 46.484375 57.671875 42.71875 61.234375 \r\nQ 38.96875 64.796875 32.078125 64.796875 \r\nz\r\nM 9.8125 72.90625 \r\nL 32.078125 72.90625 \r\nQ 44.34375 72.90625 50.609375 67.359375 \r\nQ 56.890625 61.8125 56.890625 51.125 \r\nQ 56.890625 40.328125 50.609375 34.8125 \r\nQ 44.34375 29.296875 32.078125 29.296875 \r\nL 19.671875 29.296875 \r\nL 19.671875 0 \r\nL 9.8125 0 \r\nz\r\n\" id=\"DejaVuSans-80\"/>\r\n       <path d=\"M 45.40625 46.390625 \r\nL 45.40625 75.984375 \r\nL 54.390625 75.984375 \r\nL 54.390625 0 \r\nL 45.40625 0 \r\nL 45.40625 8.203125 \r\nQ 42.578125 3.328125 38.25 0.953125 \r\nQ 33.9375 -1.421875 27.875 -1.421875 \r\nQ 17.96875 -1.421875 11.734375 6.484375 \r\nQ 5.515625 14.40625 5.515625 27.296875 \r\nQ 5.515625 40.1875 11.734375 48.09375 \r\nQ 17.96875 56 27.875 56 \r\nQ 33.9375 56 38.25 53.625 \r\nQ 42.578125 51.265625 45.40625 46.390625 \r\nz\r\nM 14.796875 27.296875 \r\nQ 14.796875 17.390625 18.875 11.75 \r\nQ 22.953125 6.109375 30.078125 6.109375 \r\nQ 37.203125 6.109375 41.296875 11.75 \r\nQ 45.40625 17.390625 45.40625 27.296875 \r\nQ 45.40625 37.203125 41.296875 42.84375 \r\nQ 37.203125 48.484375 30.078125 48.484375 \r\nQ 22.953125 48.484375 18.875 42.84375 \r\nQ 14.796875 37.203125 14.796875 27.296875 \r\nz\r\n\" id=\"DejaVuSans-100\"/>\r\n       <path d=\"M 9.421875 54.6875 \r\nL 18.40625 54.6875 \r\nL 18.40625 0 \r\nL 9.421875 0 \r\nz\r\nM 9.421875 75.984375 \r\nL 18.40625 75.984375 \r\nL 18.40625 64.59375 \r\nL 9.421875 64.59375 \r\nz\r\n\" id=\"DejaVuSans-105\"/>\r\n       <path d=\"M 48.78125 52.59375 \r\nL 48.78125 44.1875 \r\nQ 44.96875 46.296875 41.140625 47.34375 \r\nQ 37.3125 48.390625 33.40625 48.390625 \r\nQ 24.65625 48.390625 19.8125 42.84375 \r\nQ 14.984375 37.3125 14.984375 27.296875 \r\nQ 14.984375 17.28125 19.8125 11.734375 \r\nQ 24.65625 6.203125 33.40625 6.203125 \r\nQ 37.3125 6.203125 41.140625 7.25 \r\nQ 44.96875 8.296875 48.78125 10.40625 \r\nL 48.78125 2.09375 \r\nQ 45.015625 0.34375 40.984375 -0.53125 \r\nQ 36.96875 -1.421875 32.421875 -1.421875 \r\nQ 20.0625 -1.421875 12.78125 6.34375 \r\nQ 5.515625 14.109375 5.515625 27.296875 \r\nQ 5.515625 40.671875 12.859375 48.328125 \r\nQ 20.21875 56 33.015625 56 \r\nQ 37.15625 56 41.109375 55.140625 \r\nQ 45.0625 54.296875 48.78125 52.59375 \r\nz\r\n\" id=\"DejaVuSans-99\"/>\r\n       <path d=\"M 18.3125 70.21875 \r\nL 18.3125 54.6875 \r\nL 36.8125 54.6875 \r\nL 36.8125 47.703125 \r\nL 18.3125 47.703125 \r\nL 18.3125 18.015625 \r\nQ 18.3125 11.328125 20.140625 9.421875 \r\nQ 21.96875 7.515625 27.59375 7.515625 \r\nL 36.8125 7.515625 \r\nL 36.8125 0 \r\nL 27.59375 0 \r\nQ 17.1875 0 13.234375 3.875 \r\nQ 9.28125 7.765625 9.28125 18.015625 \r\nL 9.28125 47.703125 \r\nL 2.6875 47.703125 \r\nL 2.6875 54.6875 \r\nL 9.28125 54.6875 \r\nL 9.28125 70.21875 \r\nz\r\n\" id=\"DejaVuSans-116\"/>\r\n      </defs>\r\n      <use xlink:href=\"#DejaVuSans-80\"/>\r\n      <use x=\"58.552734\" xlink:href=\"#DejaVuSans-114\"/>\r\n      <use x=\"97.416016\" xlink:href=\"#DejaVuSans-101\"/>\r\n      <use x=\"158.939453\" xlink:href=\"#DejaVuSans-100\"/>\r\n      <use x=\"222.416016\" xlink:href=\"#DejaVuSans-105\"/>\r\n      <use x=\"250.199219\" xlink:href=\"#DejaVuSans-99\"/>\r\n      <use x=\"305.179688\" xlink:href=\"#DejaVuSans-116\"/>\r\n      <use x=\"344.388672\" xlink:href=\"#DejaVuSans-101\"/>\r\n      <use x=\"405.912109\" xlink:href=\"#DejaVuSans-100\"/>\r\n     </g>\r\n    </g>\r\n   </g>\r\n   <g id=\"matplotlib.axis_2\">\r\n    <g id=\"ytick_1\">\r\n     <g id=\"line2d_3\">\r\n      <defs>\r\n       <path d=\"M 0 0 \r\nL -3.5 0 \r\n\" id=\"me7a180b90c\" style=\"stroke:#000000;stroke-width:0.8;\"/>\r\n      </defs>\r\n      <g>\r\n       <use style=\"stroke:#000000;stroke-width:0.8;\" x=\"52.985938\" xlink:href=\"#me7a180b90c\" y=\"94.893125\"/>\r\n      </g>\r\n     </g>\r\n     <g id=\"text_4\">\r\n      <!-- False -->\r\n      <g transform=\"translate(20.878125 98.692344)scale(0.1 -0.1)\">\r\n       <use xlink:href=\"#DejaVuSans-70\"/>\r\n       <use x=\"48.394531\" xlink:href=\"#DejaVuSans-97\"/>\r\n       <use x=\"109.673828\" xlink:href=\"#DejaVuSans-108\"/>\r\n       <use x=\"137.457031\" xlink:href=\"#DejaVuSans-115\"/>\r\n       <use x=\"189.556641\" xlink:href=\"#DejaVuSans-101\"/>\r\n      </g>\r\n     </g>\r\n    </g>\r\n    <g id=\"ytick_2\">\r\n     <g id=\"line2d_4\">\r\n      <g>\r\n       <use style=\"stroke:#000000;stroke-width:0.8;\" x=\"52.985938\" xlink:href=\"#me7a180b90c\" y=\"240.043125\"/>\r\n      </g>\r\n     </g>\r\n     <g id=\"text_5\">\r\n      <!-- True -->\r\n      <g transform=\"translate(24.751563 243.842344)scale(0.1 -0.1)\">\r\n       <use xlink:href=\"#DejaVuSans-84\"/>\r\n       <use x=\"46.333984\" xlink:href=\"#DejaVuSans-114\"/>\r\n       <use x=\"87.447266\" xlink:href=\"#DejaVuSans-117\"/>\r\n       <use x=\"150.826172\" xlink:href=\"#DejaVuSans-101\"/>\r\n      </g>\r\n     </g>\r\n    </g>\r\n    <g id=\"text_6\">\r\n     <!-- Actual -->\r\n     <g transform=\"translate(14.798438 183.132187)rotate(-90)scale(0.1 -0.1)\">\r\n      <defs>\r\n       <path d=\"M 34.1875 63.1875 \r\nL 20.796875 26.90625 \r\nL 47.609375 26.90625 \r\nz\r\nM 28.609375 72.90625 \r\nL 39.796875 72.90625 \r\nL 67.578125 0 \r\nL 57.328125 0 \r\nL 50.6875 18.703125 \r\nL 17.828125 18.703125 \r\nL 11.1875 0 \r\nL 0.78125 0 \r\nz\r\n\" id=\"DejaVuSans-65\"/>\r\n      </defs>\r\n      <use xlink:href=\"#DejaVuSans-65\"/>\r\n      <use x=\"66.658203\" xlink:href=\"#DejaVuSans-99\"/>\r\n      <use x=\"121.638672\" xlink:href=\"#DejaVuSans-116\"/>\r\n      <use x=\"160.847656\" xlink:href=\"#DejaVuSans-117\"/>\r\n      <use x=\"224.226562\" xlink:href=\"#DejaVuSans-97\"/>\r\n      <use x=\"285.505859\" xlink:href=\"#DejaVuSans-108\"/>\r\n     </g>\r\n    </g>\r\n   </g>\r\n   <g id=\"patch_3\">\r\n    <path d=\"M 52.985938 312.618125 \r\nL 52.985938 22.318125 \r\n\" style=\"fill:none;stroke:#000000;stroke-linecap:square;stroke-linejoin:miter;stroke-width:0.8;\"/>\r\n   </g>\r\n   <g id=\"patch_4\">\r\n    <path d=\"M 343.285938 312.618125 \r\nL 343.285938 22.318125 \r\n\" style=\"fill:none;stroke:#000000;stroke-linecap:square;stroke-linejoin:miter;stroke-width:0.8;\"/>\r\n   </g>\r\n   <g id=\"patch_5\">\r\n    <path d=\"M 52.985938 312.618125 \r\nL 343.285938 312.618125 \r\n\" style=\"fill:none;stroke:#000000;stroke-linecap:square;stroke-linejoin:miter;stroke-width:0.8;\"/>\r\n   </g>\r\n   <g id=\"patch_6\">\r\n    <path d=\"M 52.985938 22.318125 \r\nL 343.285938 22.318125 \r\n\" style=\"fill:none;stroke:#000000;stroke-linecap:square;stroke-linejoin:miter;stroke-width:0.8;\"/>\r\n   </g>\r\n   <g id=\"text_7\">\r\n    <!-- 280 -->\r\n    <g style=\"fill:#ffffff;\" transform=\"translate(116.017188 97.6525)scale(0.1 -0.1)\">\r\n     <defs>\r\n      <path d=\"M 19.1875 8.296875 \r\nL 53.609375 8.296875 \r\nL 53.609375 0 \r\nL 7.328125 0 \r\nL 7.328125 8.296875 \r\nQ 12.9375 14.109375 22.625 23.890625 \r\nQ 32.328125 33.6875 34.8125 36.53125 \r\nQ 39.546875 41.84375 41.421875 45.53125 \r\nQ 43.3125 49.21875 43.3125 52.78125 \r\nQ 43.3125 58.59375 39.234375 62.25 \r\nQ 35.15625 65.921875 28.609375 65.921875 \r\nQ 23.96875 65.921875 18.8125 64.3125 \r\nQ 13.671875 62.703125 7.8125 59.421875 \r\nL 7.8125 69.390625 \r\nQ 13.765625 71.78125 18.9375 73 \r\nQ 24.125 74.21875 28.421875 74.21875 \r\nQ 39.75 74.21875 46.484375 68.546875 \r\nQ 53.21875 62.890625 53.21875 53.421875 \r\nQ 53.21875 48.921875 51.53125 44.890625 \r\nQ 49.859375 40.875 45.40625 35.40625 \r\nQ 44.1875 33.984375 37.640625 27.21875 \r\nQ 31.109375 20.453125 19.1875 8.296875 \r\nz\r\n\" id=\"DejaVuSans-50\"/>\r\n      <path d=\"M 31.78125 34.625 \r\nQ 24.75 34.625 20.71875 30.859375 \r\nQ 16.703125 27.09375 16.703125 20.515625 \r\nQ 16.703125 13.921875 20.71875 10.15625 \r\nQ 24.75 6.390625 31.78125 6.390625 \r\nQ 38.8125 6.390625 42.859375 10.171875 \r\nQ 46.921875 13.96875 46.921875 20.515625 \r\nQ 46.921875 27.09375 42.890625 30.859375 \r\nQ 38.875 34.625 31.78125 34.625 \r\nz\r\nM 21.921875 38.8125 \r\nQ 15.578125 40.375 12.03125 44.71875 \r\nQ 8.5 49.078125 8.5 55.328125 \r\nQ 8.5 64.0625 14.71875 69.140625 \r\nQ 20.953125 74.21875 31.78125 74.21875 \r\nQ 42.671875 74.21875 48.875 69.140625 \r\nQ 55.078125 64.0625 55.078125 55.328125 \r\nQ 55.078125 49.078125 51.53125 44.71875 \r\nQ 48 40.375 41.703125 38.8125 \r\nQ 48.828125 37.15625 52.796875 32.3125 \r\nQ 56.78125 27.484375 56.78125 20.515625 \r\nQ 56.78125 9.90625 50.3125 4.234375 \r\nQ 43.84375 -1.421875 31.78125 -1.421875 \r\nQ 19.734375 -1.421875 13.25 4.234375 \r\nQ 6.78125 9.90625 6.78125 20.515625 \r\nQ 6.78125 27.484375 10.78125 32.3125 \r\nQ 14.796875 37.15625 21.921875 38.8125 \r\nz\r\nM 18.3125 54.390625 \r\nQ 18.3125 48.734375 21.84375 45.5625 \r\nQ 25.390625 42.390625 31.78125 42.390625 \r\nQ 38.140625 42.390625 41.71875 45.5625 \r\nQ 45.3125 48.734375 45.3125 54.390625 \r\nQ 45.3125 60.0625 41.71875 63.234375 \r\nQ 38.140625 66.40625 31.78125 66.40625 \r\nQ 25.390625 66.40625 21.84375 63.234375 \r\nQ 18.3125 60.0625 18.3125 54.390625 \r\nz\r\n\" id=\"DejaVuSans-56\"/>\r\n      <path d=\"M 31.78125 66.40625 \r\nQ 24.171875 66.40625 20.328125 58.90625 \r\nQ 16.5 51.421875 16.5 36.375 \r\nQ 16.5 21.390625 20.328125 13.890625 \r\nQ 24.171875 6.390625 31.78125 6.390625 \r\nQ 39.453125 6.390625 43.28125 13.890625 \r\nQ 47.125 21.390625 47.125 36.375 \r\nQ 47.125 51.421875 43.28125 58.90625 \r\nQ 39.453125 66.40625 31.78125 66.40625 \r\nz\r\nM 31.78125 74.21875 \r\nQ 44.046875 74.21875 50.515625 64.515625 \r\nQ 56.984375 54.828125 56.984375 36.375 \r\nQ 56.984375 17.96875 50.515625 8.265625 \r\nQ 44.046875 -1.421875 31.78125 -1.421875 \r\nQ 19.53125 -1.421875 13.0625 8.265625 \r\nQ 6.59375 17.96875 6.59375 36.375 \r\nQ 6.59375 54.828125 13.0625 64.515625 \r\nQ 19.53125 74.21875 31.78125 74.21875 \r\nz\r\n\" id=\"DejaVuSans-48\"/>\r\n     </defs>\r\n     <use xlink:href=\"#DejaVuSans-50\"/>\r\n     <use x=\"63.623047\" xlink:href=\"#DejaVuSans-56\"/>\r\n     <use x=\"127.246094\" xlink:href=\"#DejaVuSans-48\"/>\r\n    </g>\r\n   </g>\r\n   <g id=\"text_8\">\r\n    <!-- 1 -->\r\n    <g transform=\"translate(267.529688 97.6525)scale(0.1 -0.1)\">\r\n     <defs>\r\n      <path d=\"M 12.40625 8.296875 \r\nL 28.515625 8.296875 \r\nL 28.515625 63.921875 \r\nL 10.984375 60.40625 \r\nL 10.984375 69.390625 \r\nL 28.421875 72.90625 \r\nL 38.28125 72.90625 \r\nL 38.28125 8.296875 \r\nL 54.390625 8.296875 \r\nL 54.390625 0 \r\nL 12.40625 0 \r\nz\r\n\" id=\"DejaVuSans-49\"/>\r\n     </defs>\r\n     <use xlink:href=\"#DejaVuSans-49\"/>\r\n    </g>\r\n   </g>\r\n   <g id=\"text_9\">\r\n    <!-- 1 -->\r\n    <g transform=\"translate(122.379688 242.8025)scale(0.1 -0.1)\">\r\n     <use xlink:href=\"#DejaVuSans-49\"/>\r\n    </g>\r\n   </g>\r\n   <g id=\"text_10\">\r\n    <!-- 58 -->\r\n    <g transform=\"translate(264.348438 242.8025)scale(0.1 -0.1)\">\r\n     <defs>\r\n      <path d=\"M 10.796875 72.90625 \r\nL 49.515625 72.90625 \r\nL 49.515625 64.59375 \r\nL 19.828125 64.59375 \r\nL 19.828125 46.734375 \r\nQ 21.96875 47.46875 24.109375 47.828125 \r\nQ 26.265625 48.1875 28.421875 48.1875 \r\nQ 40.625 48.1875 47.75 41.5 \r\nQ 54.890625 34.8125 54.890625 23.390625 \r\nQ 54.890625 11.625 47.5625 5.09375 \r\nQ 40.234375 -1.421875 26.90625 -1.421875 \r\nQ 22.3125 -1.421875 17.546875 -0.640625 \r\nQ 12.796875 0.140625 7.71875 1.703125 \r\nL 7.71875 11.625 \r\nQ 12.109375 9.234375 16.796875 8.0625 \r\nQ 21.484375 6.890625 26.703125 6.890625 \r\nQ 35.15625 6.890625 40.078125 11.328125 \r\nQ 45.015625 15.765625 45.015625 23.390625 \r\nQ 45.015625 31 40.078125 35.4375 \r\nQ 35.15625 39.890625 26.703125 39.890625 \r\nQ 22.75 39.890625 18.8125 39.015625 \r\nQ 14.890625 38.140625 10.796875 36.28125 \r\nz\r\n\" id=\"DejaVuSans-53\"/>\r\n     </defs>\r\n     <use xlink:href=\"#DejaVuSans-53\"/>\r\n     <use x=\"63.623047\" xlink:href=\"#DejaVuSans-56\"/>\r\n    </g>\r\n   </g>\r\n   <g id=\"text_11\">\r\n    <!-- Confusion matrix -->\r\n    <g transform=\"translate(146.826563 16.318125)scale(0.12 -0.12)\">\r\n     <defs>\r\n      <path d=\"M 64.40625 67.28125 \r\nL 64.40625 56.890625 \r\nQ 59.421875 61.53125 53.78125 63.8125 \r\nQ 48.140625 66.109375 41.796875 66.109375 \r\nQ 29.296875 66.109375 22.65625 58.46875 \r\nQ 16.015625 50.828125 16.015625 36.375 \r\nQ 16.015625 21.96875 22.65625 14.328125 \r\nQ 29.296875 6.6875 41.796875 6.6875 \r\nQ 48.140625 6.6875 53.78125 8.984375 \r\nQ 59.421875 11.28125 64.40625 15.921875 \r\nL 64.40625 5.609375 \r\nQ 59.234375 2.09375 53.4375 0.328125 \r\nQ 47.65625 -1.421875 41.21875 -1.421875 \r\nQ 24.65625 -1.421875 15.125 8.703125 \r\nQ 5.609375 18.84375 5.609375 36.375 \r\nQ 5.609375 53.953125 15.125 64.078125 \r\nQ 24.65625 74.21875 41.21875 74.21875 \r\nQ 47.75 74.21875 53.53125 72.484375 \r\nQ 59.328125 70.75 64.40625 67.28125 \r\nz\r\n\" id=\"DejaVuSans-67\"/>\r\n      <path d=\"M 30.609375 48.390625 \r\nQ 23.390625 48.390625 19.1875 42.75 \r\nQ 14.984375 37.109375 14.984375 27.296875 \r\nQ 14.984375 17.484375 19.15625 11.84375 \r\nQ 23.34375 6.203125 30.609375 6.203125 \r\nQ 37.796875 6.203125 41.984375 11.859375 \r\nQ 46.1875 17.53125 46.1875 27.296875 \r\nQ 46.1875 37.015625 41.984375 42.703125 \r\nQ 37.796875 48.390625 30.609375 48.390625 \r\nz\r\nM 30.609375 56 \r\nQ 42.328125 56 49.015625 48.375 \r\nQ 55.71875 40.765625 55.71875 27.296875 \r\nQ 55.71875 13.875 49.015625 6.21875 \r\nQ 42.328125 -1.421875 30.609375 -1.421875 \r\nQ 18.84375 -1.421875 12.171875 6.21875 \r\nQ 5.515625 13.875 5.515625 27.296875 \r\nQ 5.515625 40.765625 12.171875 48.375 \r\nQ 18.84375 56 30.609375 56 \r\nz\r\n\" id=\"DejaVuSans-111\"/>\r\n      <path d=\"M 54.890625 33.015625 \r\nL 54.890625 0 \r\nL 45.90625 0 \r\nL 45.90625 32.71875 \r\nQ 45.90625 40.484375 42.875 44.328125 \r\nQ 39.84375 48.1875 33.796875 48.1875 \r\nQ 26.515625 48.1875 22.3125 43.546875 \r\nQ 18.109375 38.921875 18.109375 30.90625 \r\nL 18.109375 0 \r\nL 9.078125 0 \r\nL 9.078125 54.6875 \r\nL 18.109375 54.6875 \r\nL 18.109375 46.1875 \r\nQ 21.34375 51.125 25.703125 53.5625 \r\nQ 30.078125 56 35.796875 56 \r\nQ 45.21875 56 50.046875 50.171875 \r\nQ 54.890625 44.34375 54.890625 33.015625 \r\nz\r\n\" id=\"DejaVuSans-110\"/>\r\n      <path d=\"M 37.109375 75.984375 \r\nL 37.109375 68.5 \r\nL 28.515625 68.5 \r\nQ 23.6875 68.5 21.796875 66.546875 \r\nQ 19.921875 64.59375 19.921875 59.515625 \r\nL 19.921875 54.6875 \r\nL 34.71875 54.6875 \r\nL 34.71875 47.703125 \r\nL 19.921875 47.703125 \r\nL 19.921875 0 \r\nL 10.890625 0 \r\nL 10.890625 47.703125 \r\nL 2.296875 47.703125 \r\nL 2.296875 54.6875 \r\nL 10.890625 54.6875 \r\nL 10.890625 58.5 \r\nQ 10.890625 67.625 15.140625 71.796875 \r\nQ 19.390625 75.984375 28.609375 75.984375 \r\nz\r\n\" id=\"DejaVuSans-102\"/>\r\n      <path id=\"DejaVuSans-32\"/>\r\n      <path d=\"M 52 44.1875 \r\nQ 55.375 50.25 60.0625 53.125 \r\nQ 64.75 56 71.09375 56 \r\nQ 79.640625 56 84.28125 50.015625 \r\nQ 88.921875 44.046875 88.921875 33.015625 \r\nL 88.921875 0 \r\nL 79.890625 0 \r\nL 79.890625 32.71875 \r\nQ 79.890625 40.578125 77.09375 44.375 \r\nQ 74.3125 48.1875 68.609375 48.1875 \r\nQ 61.625 48.1875 57.5625 43.546875 \r\nQ 53.515625 38.921875 53.515625 30.90625 \r\nL 53.515625 0 \r\nL 44.484375 0 \r\nL 44.484375 32.71875 \r\nQ 44.484375 40.625 41.703125 44.40625 \r\nQ 38.921875 48.1875 33.109375 48.1875 \r\nQ 26.21875 48.1875 22.15625 43.53125 \r\nQ 18.109375 38.875 18.109375 30.90625 \r\nL 18.109375 0 \r\nL 9.078125 0 \r\nL 9.078125 54.6875 \r\nL 18.109375 54.6875 \r\nL 18.109375 46.1875 \r\nQ 21.1875 51.21875 25.484375 53.609375 \r\nQ 29.78125 56 35.6875 56 \r\nQ 41.65625 56 45.828125 52.96875 \r\nQ 50 49.953125 52 44.1875 \r\nz\r\n\" id=\"DejaVuSans-109\"/>\r\n      <path d=\"M 54.890625 54.6875 \r\nL 35.109375 28.078125 \r\nL 55.90625 0 \r\nL 45.3125 0 \r\nL 29.390625 21.484375 \r\nL 13.484375 0 \r\nL 2.875 0 \r\nL 24.125 28.609375 \r\nL 4.6875 54.6875 \r\nL 15.28125 54.6875 \r\nL 29.78125 35.203125 \r\nL 44.28125 54.6875 \r\nz\r\n\" id=\"DejaVuSans-120\"/>\r\n     </defs>\r\n     <use xlink:href=\"#DejaVuSans-67\"/>\r\n     <use x=\"69.824219\" xlink:href=\"#DejaVuSans-111\"/>\r\n     <use x=\"131.005859\" xlink:href=\"#DejaVuSans-110\"/>\r\n     <use x=\"194.384766\" xlink:href=\"#DejaVuSans-102\"/>\r\n     <use x=\"229.589844\" xlink:href=\"#DejaVuSans-117\"/>\r\n     <use x=\"292.96875\" xlink:href=\"#DejaVuSans-115\"/>\r\n     <use x=\"345.068359\" xlink:href=\"#DejaVuSans-105\"/>\r\n     <use x=\"372.851562\" xlink:href=\"#DejaVuSans-111\"/>\r\n     <use x=\"434.033203\" xlink:href=\"#DejaVuSans-110\"/>\r\n     <use x=\"497.412109\" xlink:href=\"#DejaVuSans-32\"/>\r\n     <use x=\"529.199219\" xlink:href=\"#DejaVuSans-109\"/>\r\n     <use x=\"626.611328\" xlink:href=\"#DejaVuSans-97\"/>\r\n     <use x=\"687.890625\" xlink:href=\"#DejaVuSans-116\"/>\r\n     <use x=\"727.099609\" xlink:href=\"#DejaVuSans-114\"/>\r\n     <use x=\"768.212891\" xlink:href=\"#DejaVuSans-105\"/>\r\n     <use x=\"795.996094\" xlink:href=\"#DejaVuSans-120\"/>\r\n    </g>\r\n   </g>\r\n  </g>\r\n </g>\r\n <defs>\r\n  <clipPath id=\"p17ee87c200\">\r\n   <rect height=\"290.3\" width=\"290.3\" x=\"52.985938\" y=\"22.318125\"/>\r\n  </clipPath>\r\n </defs>\r\n</svg>\r\n",
      "image/png": "[encoded data removed]"
     },
     "metadata": {
      "needs_background": "light"
     }
    }
   ],
   "source": [
    "\n",
    "preds, targs = learn.get_preds()\n",
    "acc = accuracy(preds, targs)\n",
    "print('The validation accuracy is {} %.'.format(acc * 100))\n",
    "\n",
    "\n",
    "interp = ClassificationInterpretation.from_learner(learn)\n",
    "interp.plot_confusion_matrix(figsize= (5,5),dpi=60)\n",
    "\n",
    "learn.show_results()"
   ]
  },
  {
   "source": [
    "# Test predict method on a row\n",
    "\n",
    "The next section test the model o a sample row in the dataset. Any other row can be selected from **hypertension.csv**\n",
    "\n",
    "### Note for testing porpouses:\n",
    "The dataset rows have a gap of two agains the .csv file number of rows.\n",
    "\n",
    "A way to select a row from file will be to:\n",
    "    - select a row in the .csv\n",
    "    - check file line number\n",
    "    - substract 2 \n",
    "    - add result to .iloc index\n",
    "\n",
    "` dataframe row number  = .csv file row + 2 `\n",
    "\n",
    "- If csv file line is 2 to select this row do:    \n",
    "    `iatros_df_iloc[0]`\n",
    "        \n",
    "- ` iatros_df.iloc[20] ` will be in line 22 of .csv file"
   ],
   "cell_type": "markdown",
   "metadata": {}
  },
  {
   "cell_type": "code",
   "execution_count": 28,
   "metadata": {},
   "outputs": [
    {
     "output_type": "display_data",
     "data": {
      "text/plain": "<IPython.core.display.HTML object>",
      "text/html": "\n    <div>\n        <style>\n            /* Turns off some styling */\n            progress {\n                /* gets rid of default border in Firefox and Opera. */\n                border: none;\n                /* Needs to be in here for Safari polyfill so background images work as expected. */\n                background-size: auto;\n            }\n            .progress-bar-interrupted, .progress-bar-interrupted::-webkit-progress-bar {\n                background: #F44336;\n            }\n        </style>\n      <progress value='0' class='' max='1' style='width:300px; height:20px; vertical-align: middle;'></progress>\n      \n    </div>\n    "
     },
     "metadata": {}
    },
    {
     "output_type": "display_data",
     "data": {
      "text/plain": "<IPython.core.display.HTML object>",
      "text/html": "<table border=\"1\" class=\"dataframe\">\n  <thead>\n    <tr style=\"text-align: right;\">\n      <th></th>\n      <th>Dia</th>\n      <th>Sys</th>\n      <th>Hypertension</th>\n    </tr>\n  </thead>\n  <tbody>\n    <tr>\n      <th>0</th>\n      <td>113.999999</td>\n      <td>164.0</td>\n      <td>True</td>\n    </tr>\n  </tbody>\n</table>"
     },
     "metadata": {}
    },
    {
     "output_type": "stream",
     "name": "stdout",
     "text": [
      "Class: 1 \nProbabilities: tensor([1.3426e-05, 9.9999e-01])\n"
     ]
    }
   ],
   "source": [
    "row, clas, probs = learn.predict(iatros_df.iloc[20])\n",
    "row.show()\n",
    "print('Class: {} \\nProbabilities: {}'.format(clas,probs))"
   ]
  },
  {
   "cell_type": "code",
   "execution_count": 34,
   "metadata": {},
   "outputs": [],
   "source": [
    "'''\n",
    "\n",
    "Ignore this cell, a buton to the the real problem query was added in the **Dataset Filler** section\n",
    "\n",
    "'''\n",
    "#This pagination link can't be converted and breaks the pagination. \n",
    "\n",
    "broken_url = 'http://hapi.fhir.org/baseR4?_getpages=300bdb01-0cdf-4349-9299-8304f540cc7c&_getpagesoffset=2320&_count=20&_pretty=true&_bundletype=searchset'\n",
    "url_params = get_url_params(broken_url)\n",
    "\n",
    "if len(url_params) > 1:\n",
    "                #Query for next page\n",
    "                response = requests.get(broken_url, params=url_params)\n",
    "                #print(response.text)\n",
    "               # print(json.dumps(response.json(), indent=2))\n",
    "                \n",
    "                if response.status_code == 200:\n",
    "                    #Initialize a bundle object from request response as json\n",
    "                    try: \n",
    "                        bundle = b.Bundle(response.json())\n",
    "                    except Exception as e:\n",
    "                        print('An error ocurred while creating Bundle object')\n",
    "                        print(e)\n",
    "                        \n",
    "                "
   ]
  }
 ]
}