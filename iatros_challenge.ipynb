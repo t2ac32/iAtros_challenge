{
 "metadata": {
  "language_info": {
   "codemirror_mode": {
    "name": "ipython",
    "version": 3
   },
   "file_extension": ".py",
   "mimetype": "text/x-python",
   "name": "python",
   "nbconvert_exporter": "python",
   "pygments_lexer": "ipython3",
   "version": "3.8.5-final"
  },
  "orig_nbformat": 2,
  "kernelspec": {
   "name": "Python 3.8.5 64-bit ('iatros': conda)",
   "display_name": "Python 3.8.5 64-bit ('iatros': conda)",
   "metadata": {
    "interpreter": {
     "hash": "96d269a9b49747d14c0ac4bff2de003b3d4010f4c68b77dc8330467798d6388d"
    }
   }
  }
 },
 "nbformat": 4,
 "nbformat_minor": 2,
 "cells": [
  {
   "cell_type": "code",
   "execution_count": 16,
   "metadata": {},
   "outputs": [],
   "source": [
    "import math\n",
    "import logging\n",
    "from typing import Union\n",
    "from urllib.parse import urlparse, parse_qsl, urlsplit\n",
    "\n",
    "import pandas as pandas\n",
    "import seaborn as sb\n",
    "import json\n",
    "import requests\n",
    "import fhirclient\n",
    "\n",
    "from IPython.display import display, HTML\n",
    "#fhir server clients and configuration\n",
    "from fhirclient import client\n",
    "import fhirclient.models.patient as p\n",
    "import fhirclient.models.observation as o\n",
    "import fhirclient.models.bundle as b\n"
   ]
  },
  {
   "cell_type": "code",
   "execution_count": 17,
   "metadata": {},
   "outputs": [],
   "source": [
    "#Constants\n",
    "HAPI_URL = 'http://hapi.fhir.org/baseR4'"
   ]
  },
  {
   "cell_type": "code",
   "execution_count": 18,
   "metadata": {},
   "outputs": [],
   "source": [
    "#Configure settings\n",
    "logging.basicConfig(filename=\"newfile.log\", \n",
    "                    format='%(asctime)s %(message)s', \n",
    "                    filemode='w')\n",
    "logger=logging.getLogger()\n",
    "logger.setLevel(logging.DEBUG)"
   ]
  },
  {
   "cell_type": "code",
   "execution_count": 19,
   "metadata": {},
   "outputs": [
    {
     "output_type": "stream",
     "name": "stdout",
     "text": [
      "{'resourceType': 'OperationOutcome', 'text': {'status': 'generated', 'div': '<div xmlns=\"http://www.w3.org/1999/xhtml\"><h1>Operation Outcome</h1><table border=\"0\"><tr><td style=\"font-weight: bold;\">ERROR</td><td>[]</td><td><pre>This is the base URL of FHIR server. Unable to handle this request, as it does not contain a resource type or operation name.</pre></td>\\n\\t\\t\\t\\t\\t\\n\\t\\t\\t\\t\\n\\t\\t\\t</tr>\\n\\t\\t</table>\\n\\t</div>'}, 'issue': [{'severity': 'error', 'code': 'processing', 'diagnostics': 'This is the base URL of FHIR server. Unable to handle this request, as it does not contain a resource type or operation name.'}]}\n",
      "Patient Name: Dorothy Mayer\n"
     ]
    }
   ],
   "source": [
    "#Test library on HAPI-FHIR test server\n",
    "resp = requests.get(HAPI_URL)\n",
    "print(resp.json())\n",
    "\n",
    "settings = {\n",
    "    'app_id': 'fhir',\n",
    "    'api_base': 'http://hapi.fhir.org/baseR4/'\n",
    "}\n",
    "#Test sever connection\n",
    "SMART.prepare()  # prints True after fet ching CapabilityStatement\n",
    "\n",
    "#test a patient query\n",
    "SMART = client.FHIRClient(settings=settings)    \n",
    "patient = p.Patient.read('697505', SMART.server)\n",
    "p_name = SMART.human_name(patient.name[0])\n",
    "# 'Dorothy Mayer'\n",
    "print('Patient Name:', p_name)"
   ]
  },
  {
   "source": [
    "## Search for observation in FHIR-SERVER\n",
    "Observation    \n",
    "85354-9: LOINC CODE, Blood pressure panel with all children optional.\n",
    "Will look for observations of blood preassure \n"
   ],
   "cell_type": "markdown",
   "metadata": {}
  },
  {
   "cell_type": "code",
   "execution_count": 20,
   "metadata": {},
   "outputs": [],
   "source": [
    "\n",
    "def search_observation(obs_code: str, server) -> pandas.DataFrame:\n",
    "    \"\"\" \n",
    "        Recibes a code conforming to SNOMED-CT \n",
    "        e.j. http://bioportal.bioontology.org/ontologies/SNOMEDCT/?p=classes&conceptid=http%3A%2F%2Fpurl.bioontology.org%2Fontology%2FSNOMEDCT%2F38341003&jump_to_nav=true\n",
    "\n",
    "        Args:\n",
    "            obs_code [str] -- SNOMED-CT or LOINC conforming code\n",
    "            server   [   ] -- instance of fhirclient server\n",
    "        \n",
    "        Returns:\n",
    "            iatros_df [pandas.DataFrame]\n",
    "    \"\"\"\n",
    "    # Create search query\n",
    "    fs = o.Observation.where(struct = {'status':'final',\n",
    "                                    'code':{'$and': [obs_code]}\n",
    "                                        }\n",
    "                            )\n",
    "    # Perfom query to receive a Bundle resourceType since it contains pagination link.\n",
    "    bundle = fs.perform(server)\n",
    "    #print(json.dumps(bundle.as_json(), indent=2))\n",
    "    \n",
    "    # Pass bundle to handel pagination and save entries in Dataframe\n",
    "    iatros_df = handle_pagination(bundle)\n",
    "    \n",
    "    return iatros_df"
   ]
  },
  {
   "cell_type": "code",
   "execution_count": null,
   "metadata": {},
   "outputs": [],
   "source": [
    "def handle_pagination(bundle: fhirclient.models.bundle) -> pd.DataFrame:\n",
    "    \"\"\"\n",
    "        Handles a resourceType: \"Bundle\" entries, if pagination\n",
    "        link avalable iterates looking for next page entries and\n",
    "        queries the server for the next page.\n",
    "\n",
    "        Arguments:\n",
    "            bundle -- fhirclient.models.bundle\n",
    "\n",
    "        Returns:\n",
    "            pandas.DataFrame -- A Data frame containing inputs from\n",
    "                                 the paginated  requests.\n",
    "    \"\"\"\n",
    "    frames = []\n",
    "    while True:\n",
    "        entries = [be.resource for be in bundle.entry] if bundle is not None and bundle.entry is not None else None\n",
    "        \n",
    "        print('Retrieved {}/{} entries...'.format(len(bundle.entry) if      \n",
    "        \n",
    "        bundle.entry else 0, bundle.total if bundle.total else ' '))\n",
    "        #Get a temp dataframe from current bundle entries\n",
    "        temp_df =  append_entries_to_dataset(bundle)\n",
    "        frames.append(temp_df)\n",
    "        #Look for a pagination link\n",
    "        if entries is not None and len(entries) > 0:\n",
    "            next_link = get_next_link_in(bundle)  \n",
    "            url_params = get_next_url_params(next_link)\n",
    "            if len(url_params) > 1:\n",
    "                #Query for next page\n",
    "                response = requests.get(HAPI_URL, params=url_params)\n",
    "                if response.status_code == 200:\n",
    "                    #Initialize a bundle object from request response as json\n",
    "                    try: \n",
    "                        bundle = b.Bundle(response.json())\n",
    "                    except Exception as e:\n",
    "                        print('An error ocurred while creating Bundle object')\n",
    "                        print(e)\n",
    "                        print('Error query: ', next_link)\n",
    "                        return pd.concat(frames)\n",
    "        else:\n",
    "             return pd.concat(frames)"
   ]
  },
  {
   "cell_type": "code",
   "execution_count": 21,
   "metadata": {},
   "outputs": [
    {
     "output_type": "error",
     "ename": "NameError",
     "evalue": "name 'handle_pagination' is not defined",
     "traceback": [
      "\u001b[1;31m---------------------------------------------------------------------------\u001b[0m",
      "\u001b[1;31mNameError\u001b[0m                                 Traceback (most recent call last)",
      "\u001b[1;32m<ipython-input-21-cb754ea2c995>\u001b[0m in \u001b[0;36m<module>\u001b[1;34m\u001b[0m\n\u001b[0;32m      1\u001b[0m \u001b[1;31m#Reuse SMART server instance\u001b[0m\u001b[1;33m\u001b[0m\u001b[1;33m\u001b[0m\u001b[1;33m\u001b[0m\u001b[0m\n\u001b[1;32m----> 2\u001b[1;33m \u001b[0miatros_df\u001b[0m \u001b[1;33m=\u001b[0m \u001b[0msearch_observation\u001b[0m\u001b[1;33m(\u001b[0m\u001b[1;34m'85354-9'\u001b[0m\u001b[1;33m,\u001b[0m \u001b[0mSMART\u001b[0m\u001b[1;33m.\u001b[0m\u001b[0mserver\u001b[0m\u001b[1;33m)\u001b[0m\u001b[1;33m\u001b[0m\u001b[1;33m\u001b[0m\u001b[0m\n\u001b[0m\u001b[0;32m      3\u001b[0m \u001b[0miatros_df\u001b[0m\u001b[1;33m.\u001b[0m\u001b[0mreset_index\u001b[0m\u001b[1;33m(\u001b[0m\u001b[0mdrop\u001b[0m\u001b[1;33m=\u001b[0m\u001b[1;32mTrue\u001b[0m\u001b[1;33m,\u001b[0m \u001b[0minplace\u001b[0m\u001b[1;33m=\u001b[0m\u001b[1;32mTrue\u001b[0m\u001b[1;33m)\u001b[0m\u001b[1;33m\u001b[0m\u001b[1;33m\u001b[0m\u001b[0m\n\u001b[0;32m      4\u001b[0m \u001b[0mdisplay\u001b[0m\u001b[1;33m(\u001b[0m\u001b[0mHTML\u001b[0m\u001b[1;33m(\u001b[0m\u001b[0miatros_df\u001b[0m\u001b[1;33m.\u001b[0m\u001b[0mto_html\u001b[0m\u001b[1;33m(\u001b[0m\u001b[1;33m)\u001b[0m\u001b[1;33m)\u001b[0m\u001b[1;33m)\u001b[0m\u001b[1;33m\u001b[0m\u001b[1;33m\u001b[0m\u001b[0m\n",
      "\u001b[1;32m<ipython-input-20-3c68caeaea09>\u001b[0m in \u001b[0;36msearch_observation\u001b[1;34m(obs_code, server)\u001b[0m\n\u001b[0;32m     19\u001b[0m \u001b[1;33m\u001b[0m\u001b[0m\n\u001b[0;32m     20\u001b[0m     \u001b[1;31m# Pass bundle to handel pagination and save entries in Dataframe\u001b[0m\u001b[1;33m\u001b[0m\u001b[1;33m\u001b[0m\u001b[1;33m\u001b[0m\u001b[0m\n\u001b[1;32m---> 21\u001b[1;33m     \u001b[0miatros_df\u001b[0m \u001b[1;33m=\u001b[0m \u001b[0mhandle_pagination\u001b[0m\u001b[1;33m(\u001b[0m\u001b[0mbundle\u001b[0m\u001b[1;33m)\u001b[0m\u001b[1;33m\u001b[0m\u001b[1;33m\u001b[0m\u001b[0m\n\u001b[0m\u001b[0;32m     22\u001b[0m \u001b[1;33m\u001b[0m\u001b[0m\n\u001b[0;32m     23\u001b[0m     \u001b[1;32mreturn\u001b[0m \u001b[0miatros_df\u001b[0m\u001b[1;33m\u001b[0m\u001b[1;33m\u001b[0m\u001b[0m\n",
      "\u001b[1;31mNameError\u001b[0m: name 'handle_pagination' is not defined"
     ]
    }
   ],
   "source": [
    "#Reuse SMART server instance\n",
    "iatros_df = search_observation('85354-9', SMART.server)\n",
    "iatros_df.reset_index(drop=True, inplace=True)\n",
    "display(HTML(iatros_df.to_html()))\n"
   ]
  },
  {
   "cell_type": "code",
   "execution_count": null,
   "metadata": {},
   "outputs": [],
   "source": []
  }
 ]
}